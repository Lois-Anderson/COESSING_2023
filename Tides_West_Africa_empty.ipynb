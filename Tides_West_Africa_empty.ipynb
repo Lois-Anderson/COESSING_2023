{
 "cells": [
  {
   "cell_type": "markdown",
   "id": "dbf3ab52-f951-4c02-8173-28df1c48278e",
   "metadata": {},
   "source": [
    "# Harmonic Analysis of Tide Gauge Records around West Africa\n",
    "\n",
    "The tides are a phenomenon that shape our world across a variety of scales. On a very practical level, accurate prediction of the tides is of importance to sea-faring workers, and the exact behavior of the tides can vary strongly between coastal settings (particularly in embayments). In this notebook, we will work with tide gauge data from all around West Africa. We have a few broad objectives: \n",
    "\n",
    "**(1)** learn about the **behavior of the tides** at coastal boundaries,\n",
    "\n",
    "**(2)** learn a data fitting technique called **Harmonic Analysis** and use it to charachterize the behavior of tides in West Africa, and\n",
    "\n",
    "**(3)** use this characterization to test whether the tide in Northern West Africa behaves like a **Kelvin wave**. "
   ]
  },
  {
   "cell_type": "code",
   "execution_count": null,
   "id": "e33c2d29-2c85-4185-99d8-dae38e84002d",
   "metadata": {},
   "outputs": [],
   "source": [
    "# imports\n"
   ]
  },
  {
   "cell_type": "markdown",
   "id": "b0c1520d-d471-4967-b7ae-dcf6d6e89d1a",
   "metadata": {},
   "source": [
    "## Retrieving data from [University of Hawai'i Sea Level Center ](https://uhslc.soest.hawaii.edu/stations/?stn=231#climatology)\n",
    "\n",
    "We have already pulled data from three tide gauges around West Africa (see data files in this notebook's directory). These were found by searching the University of Hawai'i Sea Level Center database (you may also use the [Permanent Service for Mean Sea Level](https://psmsl.org/)), selecting 'hourly data', and requesting a netCDF4 file. This will bring you to an OpenDap data request page that allows you to select which variables and metadata you wish to include in your download.\n",
    "\n",
    "<img src=\"./UHSL.png\" width=700 height=600 />\n",
    "\n",
    "Try downloading the hourly tide record from the station in Dakar, Senegal. Try using this station's data in the following exercises, on your own. "
   ]
  },
  {
   "cell_type": "code",
   "execution_count": null,
   "id": "2853fb42-b093-46b6-b0a6-3834c0b1d908",
   "metadata": {},
   "outputs": [],
   "source": [
    "ncfile = './h231.nc.nc4'      # Ghana\n",
    "ds = xr.open_dataset(ncfile)\n",
    "\n",
    "ncfile0 = './h223e.nc.nc4'    # Senegal\n",
    "ds0 = xr.open_dataset(ncfile0)\n",
    "\n",
    "ncfile1 = './h235.nc.nc4'     # Cabo Verde\n",
    "ds1 = xr.open_dataset(ncfile1)\n",
    "\n",
    "ncfile2 = './h234.nc.nc4'     # Congo\n",
    "ds2 = xr.open_dataset(ncfile2)\n",
    "\n",
    "ncfile3 = './h220.nc.nc4'     # Namibia\n",
    "ds3 = xr.open_dataset(ncfile3)\n",
    "\n",
    "ncfile4 = './h225a.nc.nc'     # Sao Tome and Principe\n",
    "ds4 = xr.open_dataset(ncfile4)"
   ]
  },
  {
   "cell_type": "markdown",
   "id": "27c07982-cc75-43cb-be0c-8b11089e4a38",
   "metadata": {},
   "source": [
    "## Tide gauge locations\n",
    "\n",
    "Before doing any analysis, let's get oriented. Where are these tide gauges? \n",
    "\n",
    "(We know where they are already, since we pulled the data ourselves. If we were working with many tide gauges, we would want our netCDF files to contain location metadata that we could call in the following plot's legend.)"
   ]
  },
  {
   "cell_type": "code",
   "execution_count": null,
   "id": "df76c1c6-a2c5-4143-b8ed-0a512b998056",
   "metadata": {
    "tags": []
   },
   "outputs": [],
   "source": [
    "# define transform and projection\n",
    "\n",
    "mytransform = \n",
    "myprojection = \n",
    "ms = 75 # toggle marker size\n",
    "\n",
    "# Create figure with just the extent of the Gulf of Guinea\n",
    "\n",
    "fig, ax = plt.subplots(figsize=(8, 8), subplot_kw=dict(projection=myprojection));\n",
    "ax.set_extent([-30.5, 17.5, -25, 20],crs=ccrs.PlateCarree());\n",
    "plt.title('Tide Gauge Locations')\n",
    "\n",
    "# add land, coastline, etc. for an easy-to-read plot\n",
    "\n",
    "ax.add_feature(cfeature.LAND);\n",
    "coast = cfeature.GSHHSFeature(levels = [1,2], scale='f') # fancy way to get high-resolution coastline + rivers\n",
    "ax.add_feature(coast)\n",
    "glb = ax.gridlines(draw_labels=True, alpha=0.5, linewidth=.2);\n",
    "glb.xlabels_top = glb.ylabels_right = False;\n",
    "\n",
    "# add our tide gauge locations\n",
    "\n",
    "ax.scatter(ds.lon, ds.lat, transform=mytransform, c='b', edgecolors= 'black', s=ms, label='Takoradi, Ghana');\n",
    "\n",
    "# move legend\n"
   ]
  },
  {
   "cell_type": "markdown",
   "id": "7fb4226e-d2c3-4185-9fdd-fb0ddb6fcec2",
   "metadata": {},
   "source": [
    "## Explore gauge records"
   ]
  },
  {
   "cell_type": "code",
   "execution_count": null,
   "id": "25ead459-588a-4898-9148-542b17ab8180",
   "metadata": {},
   "outputs": [],
   "source": [
    "# take a look at the tide gauge data\n",
    "\n",
    "lims = None                             # for no limits (show entire timeseries)\n",
    "# lims = (ds.time[42000], ds.time[44500]) # choose x-axis limits for all records to look around\n",
    "\n",
    "fig = plt.figure(figsize=(15,20));\n",
    "plt.rcParams.update({'font.size': 12}); # toggle font size\n",
    "a = 0.3                                 # toggle color intensity\n",
    "\n",
    "# subplots _______________________________________________________\n",
    "\n",
    "plt.subplot(6, 1, 1);\n",
    "ax = ds.sea_level.plot(label='Takoradi', c='b', alpha=a);\n",
    "plt.title('Ghana')\n",
    "plt.xlim(lims)\n",
    "plt.legend();\n",
    "\n",
    "plt.subplot(6, 1, 2);\n",
    "ax = ds0.sea_level.plot(label='Dakar', c='orange', alpha=a);\n",
    "plt.title('Senegal')\n",
    "plt.xlim(lims)\n",
    "plt.legend();\n",
    "\n",
    "plt.subplot(6, 1, 3);\n",
    "ax = ds1.sea_level.plot(label='Palmeira', c='r', alpha=a);\n",
    "plt.title('Cabo Verde')\n",
    "plt.xlim(lims)\n",
    "plt.legend();\n",
    "\n",
    "plt.subplot(6, 1, 4);\n",
    "ax = ds2.sea_level.plot(label='Pointe Noire', c='g', alpha=a);\n",
    "plt.title('Congo')\n",
    "plt.xlim(lims)\n",
    "plt.legend();\n",
    "\n",
    "plt.subplot(6, 1, 5);\n",
    "ax = ds3.sea_level.plot(label='Walvis Bay', c='limegreen', alpha=a);\n",
    "plt.title('Namibia')\n",
    "plt.xlim(lims)\n",
    "plt.legend();\n",
    "\n",
    "plt.subplot(6, 1, 6);\n",
    "ax = ds4.sea_level.plot(label='Sao Tome', c='c', alpha=a);\n",
    "plt.title('Sao Tome and Principe')\n",
    "plt.xlim(lims)\n",
    "plt.legend();\n",
    "\n",
    "plt.tight_layout()"
   ]
  },
  {
   "cell_type": "markdown",
   "id": "c0d08470-8328-4c5d-9d4e-159c75735342",
   "metadata": {},
   "source": [
    "### Qualitatively, what do you notice about each record?\n",
    "\n",
    "Take a moment to note some features, similarities, and differences apparent between these records, at a glance.\n",
    "\n",
    "### Change the x-limits on the plots above to zoom in. \n",
    "\n",
    "Can you visually identify spring, neap, perigee, and apogee cycles?\n",
    "\n",
    "## Qualitatively compare Takoradi and Pointe Noir\n",
    "\n",
    "Takoradi and Pointe Noir are both coastal stations with similar temporal coverage. Let's take a closer look at similarities/differences between the two stations, by plotting them on top of each other and zooming in on a time where both have continuous data. "
   ]
  },
  {
   "cell_type": "code",
   "execution_count": null,
   "id": "1cfe4218-ef1d-4f1d-8c99-39639eeb128d",
   "metadata": {},
   "outputs": [],
   "source": [
    "# plot Takoradi & Pointe Noire together\n",
    "\n",
    "lims = (ds.time[44000], ds.time[44500])\n",
    "\n",
    "fig = plt.figure(figsize=(15,8));\n",
    "plt.rcParams.update({'font.size': 12}); # toggle font size\n",
    "a = 0.3                                 # toggle color intensity\n",
    "\n",
    "plt.subplot(2, 1, 1);\n",
    "# add gauges\n",
    "plt.title('Comparing coastal records')\n",
    "plt.legend();\n",
    "\n",
    "plt.subplot(2, 1, 2);\n",
    "# add gauges\n",
    "plt.title('Zoom in')\n",
    "plt.xlim(lims)\n",
    "plt.legend();\n",
    "\n",
    "plt.tight_layout();"
   ]
  },
  {
   "cell_type": "markdown",
   "id": "de759aee-406e-4f68-9fba-f7af6737b06b",
   "metadata": {},
   "source": [
    "## Qualitatively compare Takoradi, Dakar, and Palmeira\n",
    "\n",
    "Takoradi and Dakar are both coastal stations in the Northern Hemisphere. Palmeira is offshore, just North of Dakar. Unfortunately, they each have fairly different temporal coverage... Let's take a closer look at similarities/differences between the three stations, by plotting them on top of each other and zooming in on a time where they all have continuous data. "
   ]
  },
  {
   "cell_type": "code",
   "execution_count": null,
   "id": "2ed501da-492a-44bc-bb71-b1b10ff22081",
   "metadata": {},
   "outputs": [],
   "source": [
    "# plot Takoradi, Dakar, and Palmeira together\n",
    "\n"
   ]
  },
  {
   "cell_type": "markdown",
   "id": "36cb9a8a-e11f-463c-97be-b2b4bc5d0ce7",
   "metadata": {},
   "source": [
    "$$\\require{cancel}$$  \n",
    "### What might explain the differences between Gauge records?\n",
    "\n",
    "In the following exercises, we want to see if these differences in records (tidal amplitude, signal arrival time, etc.) are consistent with the propagation of a coastal Kelvin wave, for stations in the Northern Hemisphere. Recall from lecture that Kelvin waves propagate along boundaries (coastlines, the equator), and that their wave amplitude exponentially decays with distance from the boundary.\n",
    "\n",
    "<img src=\"./Kelvin.png\" width=700 height=600 /> \n",
    "\n",
    "Pure Kelvin waves have no cross-shore (into and out of coastline) velocity. If we have a Kelvin wave propagating along a zonal coastline like in the figure above, we treat the meriodional fluid velocity as zero in the momentum balance:\n",
    "\n",
    "$$\\frac{\\partial u}{\\partial t} = \\cancel{fv} - g\\frac{\\partial \\eta}{\\partial x}$$\n",
    "$$\\cancel{\\frac{\\partial v}{\\partial t}} = -fu - g\\frac{\\partial \\eta}{\\partial y}.$$\n",
    "\n",
    "This example illustrates the fundamental momentum balance of Kelvin waves: geostrophic (pressure gradient balanced by rotation) in the cross-shore direction, and along shore fluid accelerations (oscillations) determined by pressure gradients associated with wave crests and troughs. The attenuation of wave amplitude with cross-shore distance is given by\n",
    "\n",
    "$$\\eta = \\eta_0e^{-\\frac{y}{R_d}}\\sin(kx - \\omega t),$$\n",
    "\n",
    "where $y$ is being used as the cross-shore direction and $R_d = \\frac{\\sqrt{gH}}{f}$. Finally, recall that Kelvin waves propagate (phase speed rather than fluid velocity!) at the shallow water wave speed, \n",
    "\n",
    "$$c_p = \\sqrt{gH}. $$\n",
    "\n",
    "#### Next steps\n",
    "\n",
    "To investigate how well our tide gauge records match up with the pure Kelvin wave theory, we want to figure out:\n",
    "\n",
    "- Can the difference in tidal ranges between coastal stations and Palmeira be explained by offshore Kelvin wave decay? \n",
    "- Can the difference in wave arrival time between Takoradi and Dakar be explained by a Kelvin wave phase speed?\n",
    "- **BONUS:** Does the propagation of the tide appear to be dispersive? Is your answer different between the NH and SH stations?\n",
    "\n",
    "Our tidal records have some large gaps in them. First, we will fill these gaps and identify the dominant constituents of West Africa's tides, using harmonic analysis. "
   ]
  },
  {
   "cell_type": "markdown",
   "id": "add78c6b-531e-4f97-83db-b32374a07afb",
   "metadata": {},
   "source": [
    "## Filling data gaps using harmonic analysis \n",
    "\n",
    "Harmonic analysis is a useful tool for reconstructing or modeling long timeseries of data whose contributing frequencies we already know (for instance, the frequencies associated with the many tidal constituents). For a tide gauge record with no gaps, we might use this technique to isolate the sea level signal that cannot be explained by the tides (the \"de-tided\" sea level record). For gauges with large gaps, we can use the harmonic fit of the existing parts of the record to make estimates about what is missing.\n",
    "\n",
    "For a tide gauge record (timseries) of length $N$, we might choose to represent the record as a sum of three parts: mean sea level over the entire record, a (harmonic) model consisting of a bunch of waves that undulate at tidal frequencies, and some residual (whatever is left over). Mathematically, this looks like: \n",
    "\n",
    "$$ \\large \\underbrace{x_{(t_n)}}_{\\text{data}} = \\underbrace{\\overline{x}}_{\\text{mean}} + \\underbrace{\\sum\\limits^M_{m=1}\\left[C_m \\cos(2\\pi f_mt_n - \\phi_m)\\right]}_{\\text{model, using $M$ tidal constituents}} + \\underbrace{x_{r(t_n)}}_{\\text{residuals}} $$\n",
    "\n",
    "$$\\longleftrightarrow$$\n",
    "\n",
    "$$ \\underbrace{x_{(t_n)}}_{\\text{data}} = \\underbrace{\\overline{x}}_{\\text{mean}} + \\underbrace{\\sum\\limits^M_{m=1}\\left[A_m \\cos(\\omega_mt_n) + B_m \\sin(\\omega_mt_n)\\right]}_{\\text{model, using $M$ tidal constituents}} + \\underbrace{x_{r(t_n)}}_{\\text{residuals}}, $$\n",
    "\n",
    "where $C_m = \\sqrt{A_m^2 + B_m^2}$  and $\\phi_m = \\tan^{-1}\\left(\\frac{B_m}{A_m}\\right)$.\n",
    "\n",
    "We then need to find the set of coefficients $A_m$ and $B_m$ that do the best job of fitting the data, which should be dominated by the signal of the tides. We'll use a \"least squares\" method to do this, choosing these coefficients such that we minimize the variance of the residuals (sum of all residuals squared) above. We can use the above to write the variance $\\epsilon^2$ as\n",
    "\n",
    "$$\\begin{aligned} \\epsilon^2  &= \\sum\\limits^N_{n=1}x_{r(t_n)}^2 \\\\ &= \\sum\\limits^N_{n=1}\\left[ x_{(t_n)} - \\left(\\overline{x} + \\sum\\limits^M_{m=1}\\left[A_m \\cos(\\omega_mt_n) + B_m \\sin(\\omega_mt_n)\\right] \\right)\\right]^2 .\\end{aligned}$$ \n",
    "\n",
    "Then, we want to minimize $\\epsilon^2$. If we think of the variance as a function of all possible choices for coefficients $A_m$ and $B_m$, then a natural way to find its minimum is to take its partial derivatives with respect to $A_m$ and $B_m$ and set them to zero. We may also do this for the mean, for completeness: \n",
    "\n",
    "$$\\begin{aligned} \\frac{\\partial\\epsilon^2}{\\partial\\overline{x}} &= -2\\sum\\limits^N_{n=1}\\left[x_{(t_n)} - \\left(\\overline{x} + \\sum\\limits^M_{m=1}\\left[A_m \\cos(\\omega_mt_n) + B_m \\sin(\\omega_mt_n)\\right]\\right)\\right] = 0 \\\\ \\frac{\\partial\\epsilon^2}{\\partial A_m} &= -2\\cos(\\omega_m t_n)\\sum\\limits^N_{n=1}\\left[x_{(t_n)} - \\left(\\overline{x} + \\sum\\limits^M_{m=1}\\left[A_m \\cos(\\omega_mt_n) + B_m \\sin(\\omega_mt_n)\\right]\\right)\\right]=0 \\\\ \\frac{\\partial\\epsilon^2}{\\partial B_m} &= -2\\sin(\\omega_m t_n)\\sum\\limits^N_{n=1}\\left[x_{(t_n)} - \\left(\\overline{x} + \\sum\\limits^M_{m=1}\\left[A_m \\cos(\\omega_mt_n) + B_m \\sin(\\omega_mt_n)\\right]\\right)\\right] = 0. \\end{aligned} $$\n",
    "\n",
    "To see how we can go about solving this system of equations, let's just look at $\\frac{\\partial\\epsilon^2}{\\partial A_m} = 0$, and let's make the simplifying assumption that our model is only using one frequency, $\\omega_1$. Then, we have\n",
    "\n",
    "$$ \\frac{\\partial\\epsilon^2}{\\partial A_1} = -2\\cos(\\omega_1 t_n)\\sum\\limits^N_{n=1}\\left[x_{(t_n)} - \\left(\\overline{x} + A_1\\cos(\\omega_1t_n) + B_1 \\sin(\\omega_1t_n)\\right)\\right]= 0$$ \n",
    "\n",
    "$$\\longleftrightarrow$$\n",
    "\n",
    "$$ \\begin{aligned} 0 &= \\sum\\limits^N_{n=1}\\left[ x_{(t_n)}\\cos(\\omega_1 t_n) - \\overline{x}\\cos(\\omega_1 t_n) - A_1\\cos(\\omega_1t_n)^2 - B_1\\sin(\\omega_1t_n)\\cos(\\omega_1t_n)\\right]\\\\ \\sum\\limits^N_{n=1} x_{(t_n)}\\cos(\\omega_1 t_n) &= \\overline{x}\\sum\\limits^N_{n=1}\\cos(\\omega_1 t_n) + A_1\\sum\\limits^N_{n=1}\\cos(\\omega_1t_n)^2 + B_1\\sum\\limits^N_{n=1}\\sin(\\omega_1t_n)\\cos(\\omega_1t_n) \\end{aligned}. $$ \n",
    "\n",
    "We can do this same rearrangement for all three equations and rewrite the problem in matrix form\n",
    "\n",
    "$$\\underbrace{\\left[\\begin{matrix}\\sum\\limits^N_{n=1} x_{(t_n)}\\\\\\sum\\limits^N_{n=1} x_{(t_n)}\\cos(\\omega_1 t_n)\\\\\\sum\\limits^N_{n=1} x_{(t_n)}\\sin(\\omega_1 t_n) \\end{matrix}\\right]}_{\\boldsymbol{y}}=\\underbrace{\\left[\\begin{matrix} N & \\sum\\limits^N_{n=1} x_{(t_n)}\\cos(\\omega_1 t_n) & \\sum\\limits^N_{n=1} x_{(t_n)}\\sin(\\omega_1 t_n) \\\\\\sum\\limits^N_{n=1} x_{(t_n)}\\cos(\\omega_1 t_n) & \\sum\\limits^N_{n=1} x_{(t_n)}\\cos(\\omega_1 t_n)^2 & \\sum\\limits^N_{n=1} x_{(t_n)}\\sin(\\omega_1 t_n)\\cos(\\omega_1 t_n) \\\\\\sum\\limits^N_{n=1} x_{(t_n)}\\sin(\\omega_1 t_n)& \\sum\\limits^N_{n=1} x_{(t_n)}\\sin(\\omega_1 t_n)\\cos(\\omega_1 t_n) & \\sum\\limits^N_{n=1} x_{(t_n)}\\sin(\\omega_1 t_n)^2 \\end{matrix}\\right]}_{\\boldsymbol{D}}\n",
    "\\underbrace{\\left[\\begin{matrix}\\overline{x}\\\\A_1\\\\B_1 \\end{matrix}\\right]}_{\\boldsymbol{z}}.$$\n",
    "\n",
    "Whew! Now, using the names for each matrix written underneath the curly brackets, we have only to solve the problem \n",
    "\n",
    "$$\\boldsymbol{z} = \\boldsymbol{D}^{-1}\\boldsymbol{y}$$\n",
    "\n",
    "for each tidal constituent. Let's code up this matrix problem, using a loop to apply it to each tidal constituent. (For linear algebra enthusiasts, a nice challenge to try on your own is to solve this problem for all constituents simultaneously, without using a loop. It's more computationally efficient. Chapter 5.9 of Thompson & Emery might be helpful here.)"
   ]
  },
  {
   "cell_type": "code",
   "execution_count": null,
   "id": "b45145e6-af75-446f-98bd-c65e41517305",
   "metadata": {},
   "outputs": [],
   "source": [
    "# define array of tidal constituents\n",
    "\n",
    "# all tidal constituents, in some helpful categories\n",
    "\n",
    "shortest = np.array([12.42/2, 8.1771, 6, 12.42/3, 3.1051]);\n",
    "semi_diurnal = np.array([12.4206, 12.6563, 12.00, 12.62, 12.87]);\n",
    "diurnal = np.array([26.8680, 25.8193, 24.0659, 23.9345]);\n",
    "longest = np.array([8766.1526, 4383.0763, 661.3111, 354.3670, 327.599]);\n",
    "\n",
    "# choose which categories to represent in your analysis\n",
    "\n",
    "per= np.concatenate((shortest, semi_diurnal, diurnal, longest))\n",
    "om = 2*np.pi/per"
   ]
  },
  {
   "cell_type": "code",
   "execution_count": null,
   "id": "0ed186e0-baf6-4df1-811f-cdf379d1aadf",
   "metadata": {},
   "outputs": [],
   "source": [
    "# all tidal constituents for _________\n",
    "\n",
    "# Designate data to be used in harmonic analysis. The [0].data parts are necessary to remove an extra dimension from our Xarray.DataArray.\n",
    "# create a variable to add each constituent's fit to, in the loop\n",
    "# create an empty list of amplitudes for the loop to populate\n",
    "# create an empty list of phase shifts for the loop to populate\n",
    "\n",
    "# loop through tidal constituents to fit\n",
    "# matrix where columns are 1, cos(om*t), sin(om*t)\n",
    "# use matrix d to create a square (symmetric) matrix D                   \n",
    "# create matrix y in notes above\n",
    "# extract amplitudes Am, Bm in notes above\n",
    "# compute amplitude Cm in notes above\n",
    "# compute phase shift phi_m as in notes above\n",
    "# the modeled tide, for constituent \"i\" in loop\n",
    "# add modeled tide \"i\" to our model of the full tide\n",
    "# add the amplitude associated with constituent \"i\" to an array\n",
    "# add the phase associated with constituent \"i\" to an array\n",
    "    \n",
    "# finally, add mean sea level to the harmonic fit! "
   ]
  },
  {
   "cell_type": "markdown",
   "id": "be45f3fa-a976-4a9f-8c47-91970b854bfd",
   "metadata": {},
   "source": [
    "Let's take a look at some of these arrays and variables we've created. Are they what we expect them to be? "
   ]
  },
  {
   "cell_type": "code",
   "execution_count": null,
   "id": "0e93c43a-be61-4254-95ea-f28dbe947032",
   "metadata": {},
   "outputs": [],
   "source": [
    "# is the first item in matrix z the mean sea level? \n",
    "\n",
    "print(\"z[0] = \", z[0])\n",
    "print(\"mean SL = \", np.nanmean(SL))\n",
    "print()\n",
    "\n",
    "# is the first item in matrix D equal to N? \n",
    "\n",
    "print(\"D[0,0] = \", D[0,0])\n",
    "print(\"N = \", len(SL))\n",
    "print()\n",
    "\n",
    "# what else can you check/explore here?\n",
    "\n"
   ]
  },
  {
   "cell_type": "markdown",
   "id": "2399ba01-702e-4f95-9da4-83db3b9893d1",
   "metadata": {},
   "source": [
    "Now, let's plot our harmonic model and see how well it matches the original data. On your own, try plotting the residuals. Do they look large? "
   ]
  },
  {
   "cell_type": "code",
   "execution_count": null,
   "id": "bd282017-8e03-4adb-ab52-0189455760e5",
   "metadata": {},
   "outputs": [],
   "source": [
    "# plot to see how well matches the real data\n",
    "\n",
    "lims = (ds.time[44000], ds.time[44500]) # choose limits just for the zoom-in plot\n",
    "\n",
    "fig = plt.figure(figsize=(15,8));\n",
    "plt.rcParams.update({'font.size': 12}); # toggle font size\n",
    "a = 0.3                                 # toggle color intensity\n",
    "\n",
    "plt.subplot(2, 1, 1);\n",
    "# add data and fit here\n",
    "plt.title('Comparing data and harmonic fit')\n",
    "plt.legend();\n",
    "\n",
    "plt.subplot(2, 1, 2);\n",
    "# add data and fit here\n",
    "plt.title('Zoom in')\n",
    "plt.xlim(lims)\n",
    "plt.legend();\n",
    "\n",
    "plt.tight_layout();"
   ]
  },
  {
   "cell_type": "markdown",
   "id": "0cd0d094-3ab3-4f68-b648-4c776d9e5311",
   "metadata": {},
   "source": [
    "Now, let's take a look at the coeffcients (amplitudes). Which tidal constituents are prominent in this dataset? "
   ]
  },
  {
   "cell_type": "code",
   "execution_count": null,
   "id": "2979b155-2510-416c-b3a9-b0038d030a6e",
   "metadata": {},
   "outputs": [],
   "source": [
    "fig = plt.figure(figsize=(15,5));\n",
    "\n",
    "plt.subplot(1, 2, 1);\n",
    "plt.title('all constituents')\n",
    "# add scatter\n",
    "\n",
    "plt.subplot(1, 2, 2);\n",
    "plt.title('high frequency constituents')\n",
    "# add scatter"
   ]
  },
  {
   "cell_type": "markdown",
   "id": "48a852d8-4f7d-42a6-92aa-2888222995c3",
   "metadata": {},
   "source": [
    "#### Challenge: plot constituents\n",
    "\n",
    "Using a for loop, can you plot all of the tidal constituents (pure frequency waves) from our harmonic fit? Hint: recycle some of the code from the harmonic analysis!"
   ]
  },
  {
   "cell_type": "code",
   "execution_count": null,
   "id": "9e1b8a10-4457-473a-859d-96491dbdfd00",
   "metadata": {},
   "outputs": [],
   "source": [
    "# write a loop that plots constituents\n"
   ]
  },
  {
   "cell_type": "markdown",
   "id": "965af414-eefd-4f8d-bd84-88559e7292ee",
   "metadata": {},
   "source": [
    "#### Finally, let's save our harmonic fit"
   ]
  },
  {
   "cell_type": "code",
   "execution_count": null,
   "id": "5b5c0d20-dfbd-4168-a4a8-4dc5060a6b1e",
   "metadata": {},
   "outputs": [],
   "source": [
    "# add harmonic fit to original Xarray DataSet\n",
    "\n"
   ]
  },
  {
   "cell_type": "markdown",
   "id": "fbd865fe-099b-480e-a8e2-d54bce1e37c0",
   "metadata": {},
   "source": [
    "## Finding the lag using cross-correlation\n",
    "\n",
    "Now that we have our harmonic fits (filled gaps, isolated influence of the tides, and gained information about constituents), we want to examine the differences in arrival times between stations. To find this difference, or \"lag\", we can take the cross-correlation of two stations at a time using the nifty Scipy.signal function ```correlate```. Cross-correlation measures the similarity between some vector x and shifted (lagged) copies of another vector y as a function of the lag. See this at work on a randomly generated dataset below: "
   ]
  },
  {
   "cell_type": "code",
   "execution_count": null,
   "id": "0a50ca96-85b3-42ba-aa6d-6c908d4bd161",
   "metadata": {},
   "outputs": [],
   "source": [
    "# from scipy documentation's tutorial\n",
    "\n",
    "from scipy import signal\n",
    "\n",
    "rng = np.random.default_rng()                        # grab a random number generator\n",
    "x = rng.standard_normal(1000)                        # use the generator to create an array of 1000 numbers from a normal distribution\n",
    "y = np.concatenate([rng.standard_normal(100), x])    # create another array that has 100 random numbers before x\n",
    "\n",
    "correlation = signal.correlate(x, y, mode=\"full\")           # cross-correlate arrays x and y\n",
    "lags = signal.correlation_lags(x.size, y.size, mode=\"full\") # create an array of lags\n",
    "lag = lags[np.argmax(correlation)]                          # find which lag corresponds to the largest correlation value"
   ]
  },
  {
   "cell_type": "code",
   "execution_count": null,
   "id": "5cc3ddf1-96de-4808-9312-05f43c65fb9d",
   "metadata": {},
   "outputs": [],
   "source": [
    "# show lag and correlations \n",
    "\n",
    "print(\"Lag of maximum correlation is\", lag)\n",
    "plt.plot(lags, correlation);"
   ]
  },
  {
   "cell_type": "markdown",
   "id": "055800e1-699c-4a22-907b-4a7f311fb393",
   "metadata": {},
   "source": [
    "Now try this for our tide gauges. We can use the raw data, the harmonic fits, or even individual tidal constituents from our harmonic analysis. What does the optimal lag end up being, and can you use this to compute a phase speed? Why does our lag vs. correlation plot look so different from that of the randomly generated data? "
   ]
  },
  {
   "cell_type": "code",
   "execution_count": null,
   "id": "45692930-2090-48aa-acfe-e153a28ece7b",
   "metadata": {},
   "outputs": [],
   "source": [
    "# do this to filled-in coastal tide records\n",
    "\n",
    "  # choose same time indicies for both records, for simplicity\n",
    "\n",
    "x =  # Takoradi\n",
    "y =  # Dakar\n",
    "\n",
    "correlation = signal.correlate(x, y, mode=\"full\")           \n",
    "lags = signal.correlation_lags(x.size, y.size, mode=\"full\") \n",
    "lag = lags[np.argmax(correlation)]\n",
    "\n",
    "# show lag and correlations \n",
    "\n"
   ]
  },
  {
   "cell_type": "markdown",
   "id": "aba25939-8452-4b7c-a29b-2424e6725dd3",
   "metadata": {},
   "source": [
    "### Estimate phase speed and compare to $c_p = \\sqrt{gH}$"
   ]
  },
  {
   "cell_type": "code",
   "execution_count": null,
   "id": "2c888ede-72a4-4f58-918e-0869d38d0e57",
   "metadata": {},
   "outputs": [],
   "source": [
    "# estimate distance along coastline wave has to travel \n",
    "\n",
    "dist =       # Takoradi to Dakar\n",
    "\n",
    "# compare phase speeds\n",
    "\n",
    "cp =         # shallow water wave phase speed\n",
    "my_cp =      # our estimate of phase speed\n",
    "\n",
    "print(\"shallow water cp = \", cp);\n",
    "print(\"our estimate of cp = \", my_cp);"
   ]
  },
  {
   "cell_type": "markdown",
   "id": "d011aa28-2c6a-450f-9be4-92d29105f55e",
   "metadata": {},
   "source": [
    "## Comparing wave amplitude with theory\n",
    "\n",
    "We can try to get a rough answer to the first question just by examining the tidal range of the Dakar and Palmeira datasets. Recall our Kelvin wave amplitude given by $\\eta = \\eta_0e^{-\\frac{y}{R_d}}\\sin(kx - \\omega t),$ where $y$ is being used as the cross-shore direction and $R_d = \\frac{\\sqrt{gH}}{f}$."
   ]
  },
  {
   "cell_type": "code",
   "execution_count": null,
   "id": "c0021e5e-1816-4d82-a3da-cdafc527b018",
   "metadata": {},
   "outputs": [],
   "source": [
    "# compare tidal ranges to theoretical Kelvin wave amplitude\n",
    "\n",
    "Dak =       # tidal range in Dakar, in m \n",
    "Pal =       # tidal range in Palmeira, in m \n",
    "Pal_x =     # Palmeira's offshore distance, in m \n",
    "\n",
    "Rd =        # barotropic deformation radius, rough estimate\n",
    "\n",
    "eta =       # max value of eta (set sine part equal to 1)\n",
    "\n",
    "print(\"Palmeira's tidal amplitude = \", Pal/2)\n",
    "print(\"Kelvin wave model prediciton = \", eta)"
   ]
  },
  {
   "cell_type": "markdown",
   "id": "a1809e7a-2f9b-4a88-99e4-08a13a880844",
   "metadata": {},
   "source": [
    "## Extra: investigate whether phase speed varies between constituents"
   ]
  },
  {
   "cell_type": "code",
   "execution_count": null,
   "id": "3d327615-2886-4781-ac7f-83685e7c702b",
   "metadata": {},
   "outputs": [],
   "source": []
  },
  {
   "cell_type": "code",
   "execution_count": null,
   "id": "a0d92c5f-9643-4fee-b173-9bb04488103d",
   "metadata": {},
   "outputs": [],
   "source": []
  },
  {
   "cell_type": "markdown",
   "id": "98cb92b0-ffb8-4f21-bd02-e9d1374c267e",
   "metadata": {},
   "source": [
    "## What else could you do with these tide gauge data? \n",
    "\n",
    "Or with the harmonic fits? What kinds of questions could you answer? Split into groups of three and discuss. "
   ]
  },
  {
   "cell_type": "code",
   "execution_count": null,
   "id": "59b341d2-c99f-48bd-9164-c48c8f9a1620",
   "metadata": {},
   "outputs": [],
   "source": []
  }
 ],
 "metadata": {
  "kernelspec": {
   "display_name": "Python 3 (ipykernel)",
   "language": "python",
   "name": "python3"
  },
  "language_info": {
   "codemirror_mode": {
    "name": "ipython",
    "version": 3
   },
   "file_extension": ".py",
   "mimetype": "text/x-python",
   "name": "python",
   "nbconvert_exporter": "python",
   "pygments_lexer": "ipython3",
   "version": "3.8.13"
  }
 },
 "nbformat": 4,
 "nbformat_minor": 5
}
